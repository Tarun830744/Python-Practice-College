{
 "cells": [
  {
   "cell_type": "markdown",
   "metadata": {},
   "source": [
    "# While loop Practice Question"
   ]
  },
  {
   "cell_type": "markdown",
   "metadata": {},
   "source": [
    "Q1: Write a Python program to find those numbers which are divisible by 7 and multiple of 5, between 1500 and 2700 (both included)."
   ]
  },
  {
   "cell_type": "code",
   "execution_count": 10,
   "metadata": {},
   "outputs": [
    {
     "name": "stdout",
     "output_type": "stream",
     "text": [
      "number 1505 is divisible by 7 and multiple of 5\n",
      "number 1540 is divisible by 7 and multiple of 5\n",
      "number 1575 is divisible by 7 and multiple of 5\n",
      "number 1610 is divisible by 7 and multiple of 5\n",
      "number 1645 is divisible by 7 and multiple of 5\n",
      "number 1680 is divisible by 7 and multiple of 5\n",
      "number 1715 is divisible by 7 and multiple of 5\n",
      "number 1750 is divisible by 7 and multiple of 5\n",
      "number 1785 is divisible by 7 and multiple of 5\n",
      "number 1820 is divisible by 7 and multiple of 5\n",
      "number 1855 is divisible by 7 and multiple of 5\n",
      "number 1890 is divisible by 7 and multiple of 5\n",
      "number 1925 is divisible by 7 and multiple of 5\n",
      "number 1960 is divisible by 7 and multiple of 5\n",
      "number 1995 is divisible by 7 and multiple of 5\n",
      "number 2030 is divisible by 7 and multiple of 5\n",
      "number 2065 is divisible by 7 and multiple of 5\n",
      "number 2100 is divisible by 7 and multiple of 5\n",
      "number 2135 is divisible by 7 and multiple of 5\n",
      "number 2170 is divisible by 7 and multiple of 5\n",
      "number 2205 is divisible by 7 and multiple of 5\n",
      "number 2240 is divisible by 7 and multiple of 5\n",
      "number 2275 is divisible by 7 and multiple of 5\n",
      "number 2310 is divisible by 7 and multiple of 5\n",
      "number 2345 is divisible by 7 and multiple of 5\n",
      "number 2380 is divisible by 7 and multiple of 5\n",
      "number 2415 is divisible by 7 and multiple of 5\n",
      "number 2450 is divisible by 7 and multiple of 5\n",
      "number 2485 is divisible by 7 and multiple of 5\n",
      "number 2520 is divisible by 7 and multiple of 5\n",
      "number 2555 is divisible by 7 and multiple of 5\n",
      "number 2590 is divisible by 7 and multiple of 5\n",
      "number 2625 is divisible by 7 and multiple of 5\n",
      "number 2660 is divisible by 7 and multiple of 5\n",
      "number 2695 is divisible by 7 and multiple of 5\n"
     ]
    }
   ],
   "source": [
    "n =1500\n",
    "while n >= 1500 and n <= 2700:\n",
    "    if n % 7 == 0 and n % 5 == 0:\n",
    "        print(\"number {} is divisible by 7 and multiple of 5\".format(n))\n",
    "    n += 1\n",
    "        "
   ]
  },
  {
   "cell_type": "markdown",
   "metadata": {},
   "source": [
    "Q2: Write a Python program to convert temperatures to and from celsius, fahrenheit."
   ]
  },
  {
   "cell_type": "code",
   "execution_count": 5,
   "metadata": {},
   "outputs": [
    {
     "name": "stdout",
     "output_type": "stream",
     "text": [
      "In which unit you want to conver \n",
      " 1. for Celsius to fahrenheit enter \"F\" \n",
      " 2. for fahrenheit to Calsius enter \"C\" \n",
      "c\n",
      "Enter value of your unit :50\n",
      "10.0\n"
     ]
    }
   ],
   "source": [
    "I = input('In which unit you want to conver \\n 1. for Celsius to fahrenheit enter \"F\" \\n 2. for fahrenheit to Calsius enter \"C\" \\n')\n",
    "N = int(input(\"Enter value of your unit :\"))\n",
    "if I.upper() == 'F':\n",
    "    f = (N*9/5)+32\n",
    "    print(f)\n",
    "elif I.upper() == 'C':\n",
    "    c = (N-32)*(5/9)\n",
    "    print(c)\n",
    "else:\n",
    "    print(\"Enter the proper unit\")\n",
    "    "
   ]
  },
  {
   "cell_type": "markdown",
   "metadata": {},
   "source": [
    "Q3: Write a Python program to guess a number between 1 to 9."
   ]
  },
  {
   "cell_type": "code",
   "execution_count": 6,
   "metadata": {},
   "outputs": [
    {
     "name": "stdout",
     "output_type": "stream",
     "text": [
      "Enter a number :56\n",
      "Enter a number :5\n",
      "Well guessed !\n"
     ]
    }
   ],
   "source": [
    "n = 0\n",
    "while n >=0:\n",
    "    n = int(input(\"Enter a number :\"))\n",
    "    if n >= 1 and n <=9:\n",
    "        print(\"Well guessed !\")\n",
    "        break\n",
    "    else:\n",
    "        pass"
   ]
  },
  {
   "cell_type": "markdown",
   "metadata": {},
   "source": [
    "Q4: Write a Python program to construct the following pattern, using a nested for loop."
   ]
  },
  {
   "cell_type": "code",
   "execution_count": 25,
   "metadata": {},
   "outputs": [
    {
     "name": "stdout",
     "output_type": "stream",
     "text": [
      "* \n",
      "** \n",
      "*** \n",
      "**** \n",
      "***** \n",
      "****\n",
      "***\n",
      "**\n",
      "*\n"
     ]
    }
   ],
   "source": [
    "n = 1\n",
    "d = 1\n",
    "while n < 10:\n",
    "    if n <6:\n",
    "        print('*'*n)\n",
    "    else:\n",
    "        print('*'*(n-2*d))\n",
    "        d = d+1\n",
    "    n+=1"
   ]
  },
  {
   "cell_type": "markdown",
   "metadata": {},
   "source": [
    "Q5: Write a Python program that accepts a word from the user and reverse it."
   ]
  },
  {
   "cell_type": "code",
   "execution_count": 36,
   "metadata": {},
   "outputs": [
    {
     "name": "stdout",
     "output_type": "stream",
     "text": [
      "Enter your word: hii\n",
      "iih\n",
      "iih\n"
     ]
    }
   ],
   "source": [
    "n = input(\"Enter your word: \")\n",
    "#first solution\n",
    "word = ''\n",
    "l = 1\n",
    "while l <= len(n):\n",
    "    word += n[len(n)-l]\n",
    "    l +=1\n",
    "print(word)\n",
    "\n",
    "#second solution\n",
    "print(n[::-1])"
   ]
  },
  {
   "cell_type": "markdown",
   "metadata": {},
   "source": [
    "Q6: Write a Python program to count the number of even and odd numbers from a series of numbers."
   ]
  },
  {
   "cell_type": "code",
   "execution_count": 42,
   "metadata": {},
   "outputs": [
    {
     "name": "stdout",
     "output_type": "stream",
     "text": [
      "number of even number : 4 \n",
      "number of odd number : 5\n"
     ]
    }
   ],
   "source": [
    "numbers = (1, 2, 3, 4, 5, 6, 7, 8, 9)\n",
    "n = 0\n",
    "odd =0\n",
    "even = 0\n",
    "while n < len(numbers):\n",
    "    if numbers[n] % 2 ==0:\n",
    "        even +=1\n",
    "    else:\n",
    "        odd +=1\n",
    "    n+=1\n",
    "print(\"number of even number : {} \\nnumber of odd number : {}\".format(even,odd))\n",
    "        "
   ]
  },
  {
   "cell_type": "markdown",
   "metadata": {},
   "source": [
    "Q7: Write a Python program that prints each item and its corresponding type from the following list."
   ]
  },
  {
   "cell_type": "code",
   "execution_count": 44,
   "metadata": {},
   "outputs": [
    {
     "name": "stdout",
     "output_type": "stream",
     "text": [
      "<class 'int'>\n",
      "<class 'float'>\n",
      "<class 'complex'>\n",
      "<class 'bool'>\n",
      "<class 'str'>\n",
      "<class 'tuple'>\n",
      "<class 'list'>\n",
      "<class 'dict'>\n"
     ]
    }
   ],
   "source": [
    "datalist = [1452, 11.23, 1+2j, True,'w3resource', (0, -1), [5, 12], {\"class\":'V', \"section\":'A'}]\n",
    "n =0\n",
    "while n < len(datalist):\n",
    "    print(type(datalist[n]))\n",
    "    n +=1"
   ]
  },
  {
   "cell_type": "markdown",
   "metadata": {},
   "source": [
    "Q8: Write a Python program that prints all the numbers from 0 to 6 except 3 and 6.(Use 'continue' statement.)"
   ]
  },
  {
   "cell_type": "code",
   "execution_count": 3,
   "metadata": {},
   "outputs": [
    {
     "name": "stdout",
     "output_type": "stream",
     "text": [
      "0 1 2 4 5 "
     ]
    }
   ],
   "source": [
    "n = 0\n",
    "while n <=6:\n",
    "    if n == 3 or n == 6:\n",
    "        n+=1\n",
    "        continue\n",
    "    print(n ,end=' ')\n",
    "    n+=1"
   ]
  },
  {
   "cell_type": "markdown",
   "metadata": {},
   "source": [
    "Q9: Write a Python program to get the Fibonacci series between 0 to 50."
   ]
  },
  {
   "cell_type": "code",
   "execution_count": 13,
   "metadata": {},
   "outputs": [
    {
     "name": "stdout",
     "output_type": "stream",
     "text": [
      "1\n",
      "1\n",
      "2\n",
      "3\n",
      "5\n",
      "8\n",
      "13\n",
      "21\n",
      "34\n"
     ]
    }
   ],
   "source": [
    "a = 0\n",
    "b = 1\n",
    "while b < 50:\n",
    "    print( b)\n",
    "    a,b = b,a+b"
   ]
  },
  {
   "cell_type": "markdown",
   "metadata": {},
   "source": [
    "Q10: Write a Python program which iterates the integers from 1 to 50. For multiples of three print \"Fizz\" instead of the number and for the multiples of five print \"Buzz\". Fornumbers which are multiples of both three and five print\"FizzBuzz\"."
   ]
  },
  {
   "cell_type": "code",
   "execution_count": 11,
   "metadata": {},
   "outputs": [
    {
     "name": "stdout",
     "output_type": "stream",
     "text": [
      "FizzBuzz\n",
      "1\n",
      "2\n",
      "Fizz\n",
      "4\n",
      "Buzz\n",
      "Fizz\n",
      "7\n",
      "8\n",
      "Fizz\n",
      "Buzz\n",
      "11\n",
      "Fizz\n",
      "13\n",
      "14\n",
      "FizzBuzz\n",
      "16\n",
      "17\n",
      "Fizz\n",
      "19\n",
      "Buzz\n",
      "Fizz\n",
      "22\n",
      "23\n",
      "Fizz\n",
      "Buzz\n",
      "26\n",
      "Fizz\n",
      "28\n",
      "29\n",
      "FizzBuzz\n",
      "31\n",
      "32\n",
      "Fizz\n",
      "34\n",
      "Buzz\n",
      "Fizz\n",
      "37\n",
      "38\n",
      "Fizz\n",
      "Buzz\n",
      "41\n",
      "Fizz\n",
      "43\n",
      "44\n",
      "FizzBuzz\n",
      "46\n",
      "47\n",
      "Fizz\n",
      "49\n",
      "Buzz\n"
     ]
    }
   ],
   "source": [
    "n=0\n",
    "while n <= 50:\n",
    "    if n%3 == 0 and n %5 ==0:\n",
    "        print(\"FizzBuzz\")\n",
    "    elif n%3 == 0:\n",
    "        print(\"Fizz\")\n",
    "    elif n%5 == 0:\n",
    "        print(\"Buzz\")\n",
    "    else:\n",
    "        print(n)\n",
    "    n+=1"
   ]
  },
  {
   "cell_type": "markdown",
   "metadata": {},
   "source": [
    "Q11: Write a Python program which takes two digits m (row) and n (column) as input and generates a two-dimensional array. The element value in the i-th row and j-th column of the array should be i*j"
   ]
  },
  {
   "cell_type": "code",
   "execution_count": 6,
   "metadata": {},
   "outputs": [
    {
     "name": "stdout",
     "output_type": "stream",
     "text": [
      "Enter the number of row : 3\n",
      "Enter the number of column :4\n",
      "[[0, 0, 0, 0], [0, 1, 2, 3], [0, 2, 4, 6]]\n"
     ]
    }
   ],
   "source": [
    "m = int(input('Enter the number of row : '))\n",
    "n = int(input('Enter the number of column :'))\n",
    "i1 = 0\n",
    "l1 = []\n",
    "while i1 < m:\n",
    "    l1.append([])\n",
    "    i2 = 0\n",
    "    while i2 < n:\n",
    "        l1[i1].append(i1*i2)\n",
    "        i2 +=1\n",
    "    i1+=1\n",
    "print(l1)"
   ]
  },
  {
   "cell_type": "markdown",
   "metadata": {},
   "source": [
    "Q12: Write a Python program that accepts a sequence of lines (blank line to terminate) as input and prints the lines as output (all characters in lower case)."
   ]
  },
  {
   "cell_type": "code",
   "execution_count": 4,
   "metadata": {},
   "outputs": [
    {
     "name": "stdout",
     "output_type": "stream",
     "text": [
      "dfbgx\n",
      "dgvjn\n",
      "\n",
      "dfbgx\n",
      "dgvjn\n"
     ]
    }
   ],
   "source": [
    "lines = []\n",
    "while True:\n",
    "    l = input()\n",
    "    if l:\n",
    "        lines.append(l)\n",
    "    else:\n",
    "        break\n",
    "n = 0\n",
    "while n < len(lines):\n",
    "    print(lines[n].lower())\n",
    "    n+=1"
   ]
  },
  {
   "cell_type": "markdown",
   "metadata": {},
   "source": [
    "Q13: Write a Python program which accepts a sequence of comma separated 4 digit binary numbers as its input and print the numbers that are divisible by 5 in a comma separated sequence.\n"
   ]
  },
  {
   "cell_type": "code",
   "execution_count": 12,
   "metadata": {},
   "outputs": [
    {
     "name": "stdout",
     "output_type": "stream",
     "text": [
      "1010,"
     ]
    }
   ],
   "source": [
    "d = '0100,0011,1010,1001,1100,1001'\n",
    "d = d.split(',')\n",
    "i = 0\n",
    "while i < len(d):\n",
    "    if int(d[i], 2)%5 == 0:\n",
    "        print(d[i], end=',')\n",
    "    i += 1"
   ]
  },
  {
   "cell_type": "markdown",
   "metadata": {},
   "source": [
    "Q14: Write a Python program that accepts a string and calculate the number of digits and letters."
   ]
  },
  {
   "cell_type": "code",
   "execution_count": 13,
   "metadata": {},
   "outputs": [
    {
     "name": "stdout",
     "output_type": "stream",
     "text": [
      "Enter a string : python 3 5\n",
      "Number of digits : 2 \n",
      "Number of letters : 6\n"
     ]
    }
   ],
   "source": [
    "s = input(\"Enter a string : \")\n",
    "l = 0\n",
    "d = 0\n",
    "n = 0\n",
    "while n < len(s):\n",
    "    if s[n].isalpha():\n",
    "        l+=1\n",
    "    elif s[n].isdigit():\n",
    "        d+=1\n",
    "    n+=1\n",
    "print(\"Number of digits : {} \\nNumber of letters : {}\".format(d,l))\n",
    "        "
   ]
  },
  {
   "cell_type": "markdown",
   "metadata": {},
   "source": [
    "Q15: Write a Python program to check the validity of password input by users."
   ]
  },
  {
   "cell_type": "code",
   "execution_count": 9,
   "metadata": {},
   "outputs": [
    {
     "name": "stdout",
     "output_type": "stream",
     "text": [
      "Enter your passsward go valdationdjvhdnhvsduv\n",
      "Invalid Passward\n"
     ]
    }
   ],
   "source": [
    "password = input(\"Enter your passsward go valdation\")\n",
    "l,u,d,s =0,0,0,0 \n",
    "special_char =[\"$\",\"#\",\"@\"]\n",
    "n = 0\n",
    "while n < len(password):\n",
    "    if password[n].islower():\n",
    "        l+=1\n",
    "    elif password[n].isupper():\n",
    "        u+=1\n",
    "    elif password[n].isdigit():\n",
    "        d+=1\n",
    "    elif password[n] in special_char:\n",
    "        s+=1\n",
    "    n += 1\n",
    "if l>=1 and u>=1 and d>=1 and s>=1 and (len(password) >=6 or len(passward)<=16):\n",
    "    print(\"Valid Passward\")\n",
    "else:\n",
    "    print(\"Invalid Passward\")\n",
    "    "
   ]
  },
  {
   "cell_type": "markdown",
   "metadata": {},
   "source": [
    "Q16: Write a Python program to find numbers between 100 and 400 (both included) where each digit of a number is an even number. The numbers obtained should be printed in a comma-separated sequence.\n"
   ]
  },
  {
   "cell_type": "code",
   "execution_count": 16,
   "metadata": {},
   "outputs": [
    {
     "name": "stdout",
     "output_type": "stream",
     "text": [
      "200,202,204,206,208,220,222,224,226,228,240,242,244,246,248,260,262,264,266,268,280,282,284,286,288,400,"
     ]
    }
   ],
   "source": [
    "n = 100\n",
    "while n <= 400:\n",
    "    c = str(n)\n",
    "    m = 0\n",
    "    count = 0\n",
    "    while m < len(c):\n",
    "        if int(c[m])% 2== 0:\n",
    "            count +=1\n",
    "        m+=1\n",
    "    if count == 3:\n",
    "        print(n ,end = ',')\n",
    "    n += 1"
   ]
  },
  {
   "cell_type": "markdown",
   "metadata": {},
   "source": [
    "Q17: Write a Python program to print alphabet pattern 'A'."
   ]
  },
  {
   "cell_type": "code",
   "execution_count": 17,
   "metadata": {},
   "outputs": [
    {
     "name": "stdout",
     "output_type": "stream",
     "text": [
      " *** \n",
      "*   *\n",
      "*   *\n",
      "*****\n",
      "*   *\n",
      "*   *\n",
      "*   *\n"
     ]
    }
   ],
   "source": [
    "i = 0\n",
    "while i < 7:\n",
    "    j = 0\n",
    "    while j < 5:\n",
    "        if (i==0 and (j==0 or j==4)) or ((i==1 or i==2 or i==4 or i==5 or i==6) and (j==1 or j==2 or j==3)):\n",
    "            print(\" \", end=\"\")\n",
    "        else:\n",
    "            print(\"*\", end=\"\")\n",
    "        j += 1\n",
    "    print()\n",
    "    i += 1"
   ]
  },
  {
   "cell_type": "markdown",
   "metadata": {},
   "source": [
    "Q18: Write a Python program to print alphabet pattern 'D'."
   ]
  },
  {
   "cell_type": "code",
   "execution_count": 25,
   "metadata": {},
   "outputs": [
    {
     "name": "stdout",
     "output_type": "stream",
     "text": [
      "**** \n",
      "*   *\n",
      "*   *\n",
      "*   *\n",
      "*   *\n",
      "*   *\n",
      "**** \n"
     ]
    }
   ],
   "source": [
    "i = 0\n",
    "while i < 7:\n",
    "    j = 0\n",
    "    while j <5:\n",
    "        if((i==0 or i==6) and j==4 ) or ((i in range(1,6)) and (j==1 or j==2 or j==3)):\n",
    "            print(\" \",end =\"\")\n",
    "        else:\n",
    "            print(\"*\",end =\"\")\n",
    "        j +=1\n",
    "    print()\n",
    "    i+=1"
   ]
  },
  {
   "cell_type": "markdown",
   "metadata": {},
   "source": [
    "Q19: Write a Python program to print alphabet pattern 'E'."
   ]
  },
  {
   "cell_type": "code",
   "execution_count": 24,
   "metadata": {},
   "outputs": [
    {
     "name": "stdout",
     "output_type": "stream",
     "text": [
      "*****\n",
      "*    \n",
      "*    \n",
      "**** \n",
      "*    \n",
      "*    \n",
      "*****\n"
     ]
    }
   ],
   "source": [
    "i = 0\n",
    "while i < 7:\n",
    "    j = 0\n",
    "    while j <5:\n",
    "        if((i==1 or i==2 or i== 4 or i == 5) and (j in range(1,5))) or (i== 3 and j ==4):\n",
    "            print(\" \",end ='')\n",
    "        else:\n",
    "            print(\"*\",end ='')\n",
    "        j +=1\n",
    "    print()\n",
    "    i+=1"
   ]
  },
  {
   "cell_type": "markdown",
   "metadata": {},
   "source": [
    "Q20: Write a Python program to print alphabet pattern 'G'."
   ]
  },
  {
   "cell_type": "code",
   "execution_count": 19,
   "metadata": {},
   "outputs": [
    {
     "name": "stdout",
     "output_type": "stream",
     "text": [
      " *** \n",
      "*   *\n",
      "*    \n",
      "*****\n",
      "*   *\n",
      "*   *\n",
      " *** \n"
     ]
    }
   ],
   "source": [
    "i = 0\n",
    "while i < 7:\n",
    "    j = 0\n",
    "    while j <5:\n",
    "        if(i==0 and(j==0 or j==4)) or ((i==1 or i==4 or i==5 or i ==2 ) and (j==1 or j==2 or j==3)) or (i==2 and j==4) or (i==6 and (j==0 or j==4)):\n",
    "            print(\" \",end ='')\n",
    "        else:\n",
    "            print(\"*\",end ='')\n",
    "        j +=1\n",
    "    print()\n",
    "    i+=1"
   ]
  },
  {
   "cell_type": "markdown",
   "metadata": {},
   "source": [
    "Q21: Write a Python program to print alphabet pattern 'L'."
   ]
  },
  {
   "cell_type": "code",
   "execution_count": 17,
   "metadata": {},
   "outputs": [
    {
     "name": "stdout",
     "output_type": "stream",
     "text": [
      "*    \n",
      "*    \n",
      "*    \n",
      "*    \n",
      "*    \n",
      "*    \n",
      "*****\n"
     ]
    }
   ],
   "source": [
    "i = 0\n",
    "while i < 7:\n",
    "    j = 0\n",
    "    while j <5:\n",
    "        if (( i in range(7)) and (j ==0))  or (i ==6 and (j in range(1,5))):\n",
    "            print(\"*\",end ='')\n",
    "        else:\n",
    "            print(\" \",end ='')\n",
    "        j +=1\n",
    "    print()\n",
    "    i+=1"
   ]
  },
  {
   "cell_type": "markdown",
   "metadata": {},
   "source": [
    "Q22: Write a Python program to print alphabet pattern "
   ]
  },
  {
   "cell_type": "code",
   "execution_count": 18,
   "metadata": {},
   "outputs": [
    {
     "name": "stdout",
     "output_type": "stream",
     "text": [
      "          \n",
      " *       *\n",
      " * *   * *\n",
      " *   *   *\n",
      " *       *\n",
      " *       *\n",
      " *       *\n"
     ]
    }
   ],
   "source": [
    "i = 0\n",
    "while i < 7:\n",
    "    j = 0\n",
    "    while j <10:\n",
    "        if ((i in range(1,7) ) and (j==1 or j==9)) or (i==2 and (j==3 or j==7)) or (i== 3 and j==5):\n",
    "            print(\"*\",end='')\n",
    "        else:\n",
    "            print(' ',end='')\n",
    "        j+=1\n",
    "    print()\n",
    "    i+=1"
   ]
  },
  {
   "cell_type": "markdown",
   "metadata": {},
   "source": [
    "Q23: Write a Python program to print alphabet pattern 'O'."
   ]
  },
  {
   "cell_type": "code",
   "execution_count": 13,
   "metadata": {},
   "outputs": [
    {
     "name": "stdout",
     "output_type": "stream",
     "text": [
      " *** \n",
      "*   *\n",
      "*   *\n",
      "*   *\n",
      "*   *\n",
      "*   *\n",
      " *** \n"
     ]
    }
   ],
   "source": [
    "i = 0\n",
    "while i < 7:\n",
    "    j = 0\n",
    "    while j <5:\n",
    "        if ((i in range(1,6)) and (j==0 or j==4)) or (i==0 and (j in range(1,4))) or (i==6 and (j==1 or j==2 or j==3)):\n",
    "             print(\"*\",end='')\n",
    "        else:\n",
    "            print(' ',end='')\n",
    "        j+=1\n",
    "    print()\n",
    "    i+=1"
   ]
  },
  {
   "cell_type": "markdown",
   "metadata": {},
   "source": [
    "Q24: Write a Python program to print alphabet pattern 'P'."
   ]
  },
  {
   "cell_type": "code",
   "execution_count": 11,
   "metadata": {},
   "outputs": [
    {
     "name": "stdout",
     "output_type": "stream",
     "text": [
      "***** \n",
      "*    *\n",
      "*    *\n",
      "***** \n",
      "*     \n",
      "*     \n",
      "*     \n"
     ]
    }
   ],
   "source": [
    "i = 0\n",
    "while i < 7:\n",
    "    j = 0\n",
    "    while j <6:\n",
    "        if ((i in range(7)) and j==0) or ((i==1 or i==2) and j==5) or (i==0 and (j in range(5))) or (i==3 and (j in range(1,5))):\n",
    "            print(\"*\",end='')\n",
    "        else:\n",
    "            print(' ',end='')\n",
    "        j+=1\n",
    "    print()\n",
    "    i+=1"
   ]
  },
  {
   "cell_type": "markdown",
   "metadata": {},
   "source": [
    "Q25: Write a Python program to print alphabet pattern 'R'."
   ]
  },
  {
   "cell_type": "code",
   "execution_count": 5,
   "metadata": {},
   "outputs": [
    {
     "name": "stdout",
     "output_type": "stream",
     "text": [
      " **** \n",
      " *   *\n",
      " *   *\n",
      " **** \n",
      " * *  \n",
      " *  * \n",
      " *   *\n"
     ]
    }
   ],
   "source": [
    "i = 0\n",
    "while i < 7:\n",
    "    j = 0\n",
    "    while j <6:\n",
    "        if ((i in range(7)) and j==1) or ((i==1 or i==2) and j==5) or (i==0 and (j in range(1,5))) or (i==3 and (j==2 or j==3 or j==4)) or (i==4 and j==3) or (i==5 and j==4) or (i==6 and j==5) :\n",
    "            print(\"*\",end='')\n",
    "        else:\n",
    "            print(' ',end='')\n",
    "        j+=1\n",
    "    print()\n",
    "    i+=1"
   ]
  },
  {
   "cell_type": "markdown",
   "metadata": {},
   "source": [
    "Q26: Write a Python program to print the following patterns S"
   ]
  },
  {
   "cell_type": "code",
   "execution_count": 1,
   "metadata": {},
   "outputs": [
    {
     "name": "stdout",
     "output_type": "stream",
     "text": [
      "**** \n",
      "*    \n",
      "*    \n",
      " *** \n",
      "    *\n",
      "    *\n",
      "**** \n",
      "*****************\n",
      "*****************\n",
      "*****************\n",
      "****             \n",
      "****             \n",
      "****             \n",
      "*****************\n",
      "*****************\n",
      "*****************\n",
      "             ****\n",
      "             ****\n",
      "             ****\n",
      "*****************\n",
      "*****************\n",
      "*****************\n"
     ]
    }
   ],
   "source": [
    "i = 0\n",
    "while i < 7:\n",
    "    j = 0\n",
    "    while j <5:\n",
    "        if ((i == 0 or i == 6) and (j in range(4))) or (i==3 and (j in range(1,4))) or ((i==1 or i==2) and j == 0) or ((i==4 or i==5) and j==4):\n",
    "            print(\"*\",end='')\n",
    "        else:\n",
    "            print(' ',end='')\n",
    "        j+=1\n",
    "    print()\n",
    "    i+=1\n",
    "    \n",
    "k =0\n",
    "while k < 15:\n",
    "    l = 0\n",
    "    while l <17:\n",
    "        if (((k in range(3)) or (k in range(6,9)) or (k in range(12,15))) and (l in range(17))) or ((k in range(3,6)) and (l in range(4))) or ((k in range(9,12)) and (l in range(13,17))):\n",
    "             print(\"*\",end='')\n",
    "        else:\n",
    "            print(' ',end='')\n",
    "        l+=1\n",
    "    print()\n",
    "    k+=1"
   ]
  },
  {
   "cell_type": "markdown",
   "metadata": {},
   "source": [
    "Q27: Write a Python program to print alphabet pattern 'T'\n"
   ]
  },
  {
   "cell_type": "code",
   "execution_count": 2,
   "metadata": {},
   "outputs": [
    {
     "name": "stdout",
     "output_type": "stream",
     "text": [
      "*******\n",
      "   *   \n",
      "   *   \n",
      "   *   \n",
      "   *   \n",
      "   *   \n",
      "   *   \n"
     ]
    }
   ],
   "source": [
    "i = 0\n",
    "while i < 7:\n",
    "    j = 0\n",
    "    while j <7:\n",
    "        if (i==0 and (j in range(7))) or ((i in range(1,7)) and j==3):\n",
    "             print(\"*\",end='')\n",
    "        else:\n",
    "            print(' ',end='')\n",
    "        j+=1\n",
    "    print()\n",
    "    i+=1"
   ]
  },
  {
   "cell_type": "markdown",
   "metadata": {},
   "source": [
    "Q28: Write a Python program to print alphabet pattern 'U'."
   ]
  },
  {
   "cell_type": "code",
   "execution_count": 3,
   "metadata": {},
   "outputs": [
    {
     "name": "stdout",
     "output_type": "stream",
     "text": [
      "*   *\n",
      "*   *\n",
      "*   *\n",
      "*   *\n",
      "*   *\n",
      "*   *\n",
      " *** \n"
     ]
    }
   ],
   "source": [
    "i = 0\n",
    "while i < 7:\n",
    "    j = 0\n",
    "    while j <5:\n",
    "        if ((i in range(6)) and (j==0 or j==4)) or (i==6 and (j in range(1,4))):\n",
    "            print(\"*\",end='')\n",
    "        else:\n",
    "            print(' ',end='')\n",
    "        j+=1\n",
    "    print()\n",
    "    i+=1"
   ]
  },
  {
   "cell_type": "markdown",
   "metadata": {},
   "source": [
    "Q29: Write a Python program to print alphabet pattern 'X'."
   ]
  },
  {
   "cell_type": "code",
   "execution_count": 20,
   "metadata": {},
   "outputs": [
    {
     "name": "stdout",
     "output_type": "stream",
     "text": [
      "*     *\n",
      " *   * \n",
      "  * *  \n",
      "   *   \n",
      "  * *  \n",
      " *   * \n",
      "*     *\n"
     ]
    }
   ],
   "source": [
    "i = 0\n",
    "while i < 7:\n",
    "    j = 0\n",
    "    while j <7:\n",
    "        if((i==0 or i==6) and (j==0 or j==6)) or ((i==1 or i==5) and (j==1 or j==5)) or ((i==2 or i==4) and (j==2 or j==4)) or (i==3 and j==3):\n",
    "            print(\"*\",end='')\n",
    "        else:\n",
    "            print(' ',end='')\n",
    "        j+=1\n",
    "    print()\n",
    "    i+=1"
   ]
  },
  {
   "cell_type": "markdown",
   "metadata": {},
   "source": [
    "Q30: Write a Python program to print alphabet pattern 'Z'"
   ]
  },
  {
   "cell_type": "code",
   "execution_count": 25,
   "metadata": {},
   "outputs": [
    {
     "name": "stdout",
     "output_type": "stream",
     "text": [
      "*******\n",
      "     * \n",
      "    *  \n",
      "   *   \n",
      "  *    \n",
      " *     \n",
      "*******\n"
     ]
    }
   ],
   "source": [
    "i = 0\n",
    "while i < 7:\n",
    "    j = 0\n",
    "    while j <7:\n",
    "        if ((i==0 or i==6) and (j in range(7))) or (i==1 and j==5) or (i==2 and j==4) or(i==3 and j==3) or(i==4 and j==2) or (i==5 and j==1):\n",
    "            print(\"*\",end='')\n",
    "        else:\n",
    "            print(' ',end='')\n",
    "        j+=1\n",
    "    print()\n",
    "    i+=1"
   ]
  },
  {
   "cell_type": "markdown",
   "metadata": {},
   "source": [
    "Q 31: Write a Python program to calculate a dog's age in dog's years.\n",
    "\n",
    "Note: For the first two years, a dog year is equal to 10.5\n",
    "human years. After that, each dog year equals 4 human years."
   ]
  },
  {
   "cell_type": "code",
   "execution_count": 29,
   "metadata": {},
   "outputs": [
    {
     "name": "stdout",
     "output_type": "stream",
     "text": [
      "enter age of dog in human year :15\n",
      "73.0\n"
     ]
    }
   ],
   "source": [
    "age = int(input('enter age of dog in human year :'))\n",
    "if age > 2:\n",
    "    remain_year = age -2\n",
    "    total_age = (2*10.5) + (remain_year * 4)\n",
    "    print(total_age)\n",
    "else:\n",
    "    total_age = age*10.5 \n",
    "    print(total_age)"
   ]
  },
  {
   "cell_type": "markdown",
   "metadata": {},
   "source": [
    "Q32: Write a Python program to check whether an alphabet is a\n",
    "vowel or consonant."
   ]
  },
  {
   "cell_type": "code",
   "execution_count": 2,
   "metadata": {},
   "outputs": [
    {
     "name": "stdout",
     "output_type": "stream",
     "text": [
      "Enter a alphabet to check it is vowel or consonant :k\n",
      "k is consonent\n"
     ]
    }
   ],
   "source": [
    "alp = input('Enter a alphabet to check it is vowel or consonant :')\n",
    "v = ['a','e','i','o','u']\n",
    "\n",
    "if alp in v:\n",
    "    print(\"{} is vowel\".format(alp))\n",
    "else:\n",
    "    print(\"{} is consonent\".format(alp))"
   ]
  },
  {
   "cell_type": "markdown",
   "metadata": {},
   "source": [
    "Q33: Write a Python program to construct the following\n",
    "pattern, using a nested loop number"
   ]
  },
  {
   "cell_type": "code",
   "execution_count": 4,
   "metadata": {},
   "outputs": [
    {
     "name": "stdout",
     "output_type": "stream",
     "text": [
      "1\n",
      "22\n",
      "333\n",
      "4444\n",
      "55555\n",
      "666666\n",
      "7777777\n",
      "88888888\n",
      "999999999\n"
     ]
    }
   ],
   "source": [
    "i = 1\n",
    "while i < 10:\n",
    "    j = 0\n",
    "    while j < i:\n",
    "        print(i ,end =\"\")\n",
    "        j+=1\n",
    "    print()\n",
    "    i+=1\n",
    "    "
   ]
  },
  {
   "cell_type": "markdown",
   "metadata": {},
   "source": [
    "Q34: Write a Python program to create the multiplication table\n",
    "(from 1 to 10) of a number.\n"
   ]
  },
  {
   "cell_type": "code",
   "execution_count": 5,
   "metadata": {},
   "outputs": [
    {
     "name": "stdout",
     "output_type": "stream",
     "text": [
      "Enter a number which multiplication table you want6\n",
      "6 x 1 = 6\n",
      "6 x 2 = 12\n",
      "6 x 3 = 18\n",
      "6 x 4 = 24\n",
      "6 x 5 = 30\n",
      "6 x 6 = 36\n",
      "6 x 7 = 42\n",
      "6 x 8 = 48\n",
      "6 x 9 = 54\n",
      "6 x 10 = 60\n"
     ]
    }
   ],
   "source": [
    "n = int(input(\"Enter a number which multiplication table you want\"))\n",
    "i = 1\n",
    "while i < 11:\n",
    "    m = n*i\n",
    "    print(\"{} x {} = {}\".format(n,i,m))\n",
    "    i+=1"
   ]
  },
  {
   "cell_type": "markdown",
   "metadata": {},
   "source": [
    "Q35: Write a Python program to calculate the sum and average\n",
    "of n integer numbers (input from the user). Input 0 to\n",
    "finish.\n"
   ]
  },
  {
   "cell_type": "code",
   "execution_count": 8,
   "metadata": {},
   "outputs": [
    {
     "name": "stdout",
     "output_type": "stream",
     "text": [
      "Enter a number : 5\n",
      "Enter a number : 5\n",
      "Enter a number : 5\n",
      "Enter a number : 0\n",
      "sum and average of nummber are :  15 , 5.0\n"
     ]
    }
   ],
   "source": [
    "c = 0\n",
    "s = 0\n",
    "n = 1\n",
    "while n != 0:\n",
    "      n = int(input(\"Enter a number : \"))\n",
    "      s = s + n\n",
    "      c+= 1\n",
    "\n",
    "if c == 0:\n",
    "    print(\"Insert some number\")\n",
    "else:\n",
    "    print(\"sum and average of nummber are : \", s ,\",\" ,s/(c-1))"
   ]
  },
  {
   "cell_type": "code",
   "execution_count": null,
   "metadata": {},
   "outputs": [],
   "source": []
  }
 ],
 "metadata": {
  "kernelspec": {
   "display_name": "Python 3",
   "language": "python",
   "name": "python3"
  },
  "language_info": {
   "codemirror_mode": {
    "name": "ipython",
    "version": 3
   },
   "file_extension": ".py",
   "mimetype": "text/x-python",
   "name": "python",
   "nbconvert_exporter": "python",
   "pygments_lexer": "ipython3",
   "version": "3.8.5"
  }
 },
 "nbformat": 4,
 "nbformat_minor": 4
}
