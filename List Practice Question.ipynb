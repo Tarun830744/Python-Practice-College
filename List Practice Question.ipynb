{
 "cells": [
  {
   "cell_type": "markdown",
   "metadata": {},
   "source": [
    "# List Practice Question"
   ]
  },
  {
   "cell_type": "markdown",
   "metadata": {},
   "source": [
    "Q1: Write a Python program to sum all the items in a list"
   ]
  },
  {
   "cell_type": "code",
   "execution_count": 4,
   "metadata": {},
   "outputs": [
    {
     "data": {
      "text/plain": [
       "15"
      ]
     },
     "execution_count": 4,
     "metadata": {},
     "output_type": "execute_result"
    }
   ],
   "source": [
    "l = [1,2,3,4,5]\n",
    "sum(l)"
   ]
  },
  {
   "cell_type": "markdown",
   "metadata": {},
   "source": [
    "Q2: Write a Python program to multiplies all the items in a list."
   ]
  },
  {
   "cell_type": "code",
   "execution_count": 5,
   "metadata": {},
   "outputs": [
    {
     "name": "stdout",
     "output_type": "stream",
     "text": [
      "120\n"
     ]
    }
   ],
   "source": [
    "l = [1,2,3,4,5]\n",
    "m = 1\n",
    "i = 0\n",
    "while i < len(l):\n",
    "    m = m*l[i]\n",
    "    i+= 1\n",
    "print(m)"
   ]
  },
  {
   "cell_type": "markdown",
   "metadata": {},
   "source": [
    "Q3: Write a Python program to get the largest number from a list."
   ]
  },
  {
   "cell_type": "code",
   "execution_count": 6,
   "metadata": {},
   "outputs": [
    {
     "data": {
      "text/plain": [
       "9"
      ]
     },
     "execution_count": 6,
     "metadata": {},
     "output_type": "execute_result"
    }
   ],
   "source": [
    "l = [5,8,9,3,6]\n",
    "max(l)\n"
   ]
  },
  {
   "cell_type": "markdown",
   "metadata": {},
   "source": [
    "Q4: Write a Python program to get the smallest number from a list."
   ]
  },
  {
   "cell_type": "code",
   "execution_count": 7,
   "metadata": {},
   "outputs": [
    {
     "data": {
      "text/plain": [
       "3"
      ]
     },
     "execution_count": 7,
     "metadata": {},
     "output_type": "execute_result"
    }
   ],
   "source": [
    "l = [5,8,9,3,6]\n",
    "min(l)"
   ]
  },
  {
   "cell_type": "markdown",
   "metadata": {},
   "source": [
    "Q5: Write a Python program to count the number of strings where the string length is 2 or more and the first"
   ]
  },
  {
   "cell_type": "code",
   "execution_count": 11,
   "metadata": {},
   "outputs": [
    {
     "name": "stdout",
     "output_type": "stream",
     "text": [
      "2\n"
     ]
    }
   ],
   "source": [
    "l = ['abc', 'xyz', 'aba', '1221']\n",
    "c = 0\n",
    "x = 0\n",
    "while x <len(l):\n",
    "    if len(l[x])>0 and l[x][0] == l[x][-1]:\n",
    "        c += 1\n",
    "    x +=1\n",
    "print(c)"
   ]
  },
  {
   "cell_type": "markdown",
   "metadata": {},
   "source": [
    "Q6: Write a Python program to get a list, sorted in increasing order by the last element in each tuple from a given list of non-empty tuples."
   ]
  },
  {
   "cell_type": "code",
   "execution_count": 1,
   "metadata": {},
   "outputs": [
    {
     "name": "stdout",
     "output_type": "stream",
     "text": [
      "[(2, 1), (1, 2), (2, 3), (4, 4), (2, 5)]\n"
     ]
    }
   ],
   "source": [
    "l =  [(2, 5), (1, 2), (4, 4), (2, 3), (2, 1)]\n",
    "i = 0\n",
    "n = len(l)\n",
    "while(i < n):\n",
    "    j = i + 1\n",
    "    while(j < n):\n",
    "        if(l[i][1] > l[j][1]):\n",
    "            temp = l[i]\n",
    "            l[i] = l[j]\n",
    "            l[j] = temp\n",
    "        j = j + 1\n",
    "    i = i + 1\n",
    "print(l)"
   ]
  },
  {
   "cell_type": "markdown",
   "metadata": {},
   "source": [
    "Q7: Write a Python program to remove duplicates from a list."
   ]
  },
  {
   "cell_type": "code",
   "execution_count": 3,
   "metadata": {},
   "outputs": [
    {
     "name": "stdout",
     "output_type": "stream",
     "text": [
      "[4, 5, 6, 3]\n"
     ]
    }
   ],
   "source": [
    "l = [4,5,6,3,6,4,5]\n",
    "d = 0\n",
    "n = len(l)\n",
    "a = []\n",
    "while d < n:\n",
    "    if l[d] not in a:\n",
    "        a.append(l[d])\n",
    "    d = d+1\n",
    "print(a)"
   ]
  },
  {
   "cell_type": "markdown",
   "metadata": {},
   "source": [
    "Q8: Write a Python program to check a list is empty or not."
   ]
  },
  {
   "cell_type": "code",
   "execution_count": 1,
   "metadata": {},
   "outputs": [
    {
     "name": "stdout",
     "output_type": "stream",
     "text": [
      "enter a multiple number\n",
      "List is Empty\n"
     ]
    }
   ],
   "source": [
    "l = list(map(int,input(\"enter a multiple number\")))\n",
    "if len(l)==0:\n",
    "    print(\"List is Empty\")\n",
    "else:\n",
    "    print(\"List is not empty\")"
   ]
  },
  {
   "cell_type": "markdown",
   "metadata": {},
   "source": [
    "Q9: Write a Python program to clone or copy a list."
   ]
  },
  {
   "cell_type": "code",
   "execution_count": 19,
   "metadata": {},
   "outputs": [
    {
     "name": "stdout",
     "output_type": "stream",
     "text": [
      "enter a multiple number986543\n",
      "old list [9, 8, 6, 5, 4, 3]\n",
      "new list [9, 8, 6, 5, 4, 3]\n"
     ]
    }
   ],
   "source": [
    "l = list(map(int,input(\"enter a multiple number\")))\n",
    "new_list = list(l)\n",
    "print(\"old list\",l)\n",
    "print(\"new list\",new_list)"
   ]
  },
  {
   "cell_type": "markdown",
   "metadata": {},
   "source": [
    "Q10: Write a Python program to find the list of words that are longer than n from a given list of words."
   ]
  },
  {
   "cell_type": "code",
   "execution_count": 20,
   "metadata": {},
   "outputs": [
    {
     "name": "stdout",
     "output_type": "stream",
     "text": [
      "['Hello', 'large', 'python', 'world']\n"
     ]
    }
   ],
   "source": [
    "l  = [\"Hello\",\"good\",\"very\",\"woo\" ,\"hee\",\"to\",\"large\",\"python\",'world']\n",
    "length_word = 4\n",
    "output = []\n",
    "n = 0\n",
    "while n < len(l):\n",
    "    if len(l[n])>length_word:\n",
    "        output.append(l[n])\n",
    "    n +=1\n",
    "print(output)"
   ]
  },
  {
   "cell_type": "markdown",
   "metadata": {},
   "source": [
    "Q11: Write a Python function that takes two lists and returns True if they have at least one common member."
   ]
  },
  {
   "cell_type": "code",
   "execution_count": 33,
   "metadata": {},
   "outputs": [
    {
     "data": {
      "text/plain": [
       "False"
      ]
     },
     "execution_count": 33,
     "metadata": {},
     "output_type": "execute_result"
    }
   ],
   "source": [
    "def two_list(l1,l2):\n",
    "        n = 0\n",
    "        while n < len(l1):\n",
    "            j = 0\n",
    "            while j < len(l1):\n",
    "                if l1[n] == l2[j]:\n",
    "                    return True\n",
    "                j +=1\n",
    "            n += 1\n",
    "        else:\n",
    "            return False\n",
    "           \n",
    "two_list([1,5,23,6],[0,3,9,2,7])"
   ]
  },
  {
   "cell_type": "markdown",
   "metadata": {},
   "source": [
    "Q12: Write a Python program to print a specified list after\n",
    "removing the 0th, 4th and 5th elements."
   ]
  },
  {
   "cell_type": "code",
   "execution_count": 8,
   "metadata": {},
   "outputs": [
    {
     "name": "stdout",
     "output_type": "stream",
     "text": [
      "['Green', 'White', 'Black']\n"
     ]
    }
   ],
   "source": [
    "l = ['Red', 'Green', 'White', 'Black', 'Pink','Yellow']\n",
    "nl = []\n",
    "for i in range(len(l)):\n",
    "    if i not in [0,4,5]:\n",
    "        nl.append(l[i]) \n",
    "print(nl) "
   ]
  },
  {
   "cell_type": "markdown",
   "metadata": {},
   "source": [
    "Q13: Write a Python program to print the numbers of a\n",
    "specified list after removing even numbers from it."
   ]
  },
  {
   "cell_type": "code",
   "execution_count": 17,
   "metadata": {},
   "outputs": [
    {
     "name": "stdout",
     "output_type": "stream",
     "text": [
      "23 63 63 "
     ]
    }
   ],
   "source": [
    "l = [23,63,88,63,44,12,6,10]\n",
    "for i in l:\n",
    "    if i%2==0:\n",
    "        pass\n",
    "    else:\n",
    "        print(i ,end = ' ')"
   ]
  },
  {
   "cell_type": "markdown",
   "metadata": {},
   "source": [
    "Q14: Write a Python program to generate and print a list of\n",
    "first and last 5 elements where the values are square of\n",
    "numbers between 1 and 30 (both included).\n"
   ]
  },
  {
   "cell_type": "code",
   "execution_count": 20,
   "metadata": {},
   "outputs": [
    {
     "name": "stdout",
     "output_type": "stream",
     "text": [
      "[1, 4, 9, 16, 25]\n",
      "[676, 729, 784, 841, 900]\n"
     ]
    }
   ],
   "source": [
    "l =[]\n",
    "for i in range(1,31):\n",
    "    l.append(i**2)\n",
    "print(l[:5])\n",
    "print(l[-5:])\n",
    "    "
   ]
  },
  {
   "cell_type": "markdown",
   "metadata": {},
   "source": [
    "Q15: Write a Python program to generate and print a list\n",
    "except for the first 5 elements, where the values are square\n",
    "of numbers between 1 and 30 (both included"
   ]
  },
  {
   "cell_type": "code",
   "execution_count": 21,
   "metadata": {},
   "outputs": [
    {
     "name": "stdout",
     "output_type": "stream",
     "text": [
      "[36, 49, 64, 81, 100, 121, 144, 169, 196, 225, 256, 289, 324, 361, 400, 441, 484, 529, 576, 625, 676, 729, 784, 841, 900]\n"
     ]
    }
   ],
   "source": [
    "l =[]\n",
    "for i in range(1,31):\n",
    "    l.append(i**2)\n",
    "print(l[5:])\n",
    "    "
   ]
  },
  {
   "cell_type": "code",
   "execution_count": null,
   "metadata": {},
   "outputs": [],
   "source": []
  }
 ],
 "metadata": {
  "kernelspec": {
   "display_name": "Python 3",
   "language": "python",
   "name": "python3"
  },
  "language_info": {
   "codemirror_mode": {
    "name": "ipython",
    "version": 3
   },
   "file_extension": ".py",
   "mimetype": "text/x-python",
   "name": "python",
   "nbconvert_exporter": "python",
   "pygments_lexer": "ipython3",
   "version": "3.8.5"
  }
 },
 "nbformat": 4,
 "nbformat_minor": 4
}
